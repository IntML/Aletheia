{
 "cells": [
  {
   "cell_type": "code",
   "execution_count": 1,
   "metadata": {
    "ExecuteTime": {
     "end_time": "2021-02-08T04:29:34.121580Z",
     "start_time": "2021-02-08T04:29:33.713077Z"
    }
   },
   "outputs": [],
   "source": [
    "%matplotlib inline  "
   ]
  },
  {
   "cell_type": "markdown",
   "metadata": {},
   "source": [
    "Load data"
   ]
  },
  {
   "cell_type": "code",
   "execution_count": 2,
   "metadata": {
    "ExecuteTime": {
     "end_time": "2021-02-08T04:29:34.486486Z",
     "start_time": "2021-02-08T04:29:34.123638Z"
    }
   },
   "outputs": [],
   "source": [
    "import matplotlib.pyplot as plt\n",
    "from sklearn.preprocessing import MinMaxScaler\n",
    "from sklearn.datasets import load_breast_cancer\n",
    "from sklearn.model_selection import train_test_split\n",
    "data = load_breast_cancer()\n",
    "x = MinMaxScaler().fit_transform(data.data)\n",
    "y = data.target\n",
    "train_x, test_x, train_y, test_y = train_test_split(x, y, test_size=0.2, random_state=0)"
   ]
  },
  {
   "cell_type": "markdown",
   "metadata": {},
   "source": [
    "Train PLNN"
   ]
  },
  {
   "cell_type": "code",
   "execution_count": 3,
   "metadata": {
    "ExecuteTime": {
     "end_time": "2021-02-08T04:29:36.364848Z",
     "start_time": "2021-02-08T04:29:34.488331Z"
    },
    "scrolled": true
   },
   "outputs": [],
   "source": [
    "import numpy as np \n",
    "import tensorflow as tf\n",
    "from tensorflow import keras\n",
    "\n",
    "\n",
    "def ReluNetClassifier(input_dim, hidden_layer_sizes, regl1=0, regl2=0, lr=0.001, random_state=0):\n",
    "\n",
    "    np.random.seed(random_state) \n",
    "    tf.random.set_seed(random_state)\n",
    "\n",
    "    hidden_layer_sizes = [input_dim] + hidden_layer_sizes\n",
    "    model = keras.models.Sequential()\n",
    "\n",
    "    if (regl1 > 0) & (regl2 == 0):\n",
    "        regularizer = keras.regularizers.l1(regl1)\n",
    "    elif (regl1 == 0) & (regl2 > 0):\n",
    "        regularizer = keras.regularizers.l2(regl2)\n",
    "    else:\n",
    "        regularizer = keras.regularizers.l1_l2(l1=regl1, l2=regl2)\n",
    "    \n",
    "    for i in range(len(hidden_layer_sizes) - 1):\n",
    "        model.add(keras.layers.Dense(\n",
    "            input_dim=hidden_layer_sizes[i],\n",
    "            units=hidden_layer_sizes[i + 1],\n",
    "            kernel_initializer='he_normal',\n",
    "            bias_initializer='zeros',\n",
    "            activation='relu',\n",
    "            kernel_regularizer=regularizer))\n",
    "\n",
    "    model.add(keras.layers.Dense(\n",
    "            units=1,\n",
    "            input_dim=hidden_layer_sizes[-1],\n",
    "            kernel_initializer='he_normal',\n",
    "            bias_initializer='zeros',\n",
    "            activation='sigmoid',\n",
    "            kernel_regularizer=regularizer))\n",
    "\n",
    "    # compile model\n",
    "    model.compile(optimizer=keras.optimizers.Adam(lr=lr),\n",
    "                    loss='binary_crossentropy')\n",
    "    return model\n",
    "\n",
    "\n",
    "def ReluNetRegressor(input_dim, hidden_layer_sizes, regl1=0, regl2=0, lr=0.001, random_state=0):\n",
    "\n",
    "    np.random.seed(random_state) \n",
    "    tf.random.set_seed(random_state)\n",
    "\n",
    "    hidden_layer_sizes = [input_dim] + hidden_layer_sizes\n",
    "    model = keras.models.Sequential()\n",
    "\n",
    "    if (regl1 > 0) & (regl2 == 0):\n",
    "        regularizer = keras.regularizers.l1(regl1)\n",
    "    elif (regl1 == 0) & (regl2 > 0):\n",
    "        regularizer = keras.regularizers.l2(regl2)\n",
    "    else:\n",
    "        regularizer = keras.regularizers.l1_l2(l1=regl1, l2=regl2)\n",
    "\n",
    "    for i in range(len(hidden_layer_sizes) - 1):\n",
    "        model.add(keras.layers.Dense(\n",
    "            input_dim=hidden_layer_sizes[i],\n",
    "            units=hidden_layer_sizes[i + 1],\n",
    "            kernel_initializer='he_normal',\n",
    "            bias_initializer='zeros',\n",
    "            activation='relu',\n",
    "            kernel_regularizer=regularizer))\n",
    "\n",
    "    model.add(keras.layers.Dense(\n",
    "            units=1,\n",
    "            input_dim=hidden_layer_sizes[-1],\n",
    "            kernel_initializer='he_normal',\n",
    "            bias_initializer='zeros',\n",
    "            activation='linear',\n",
    "            kernel_regularizer=regularizer))\n",
    "\n",
    "    # compile model\n",
    "    model.compile(optimizer=keras.optimizers.Adam(lr=lr),\n",
    "                    loss='mean_squared_error')\n",
    "    return model"
   ]
  },
  {
   "cell_type": "code",
   "execution_count": 8,
   "metadata": {
    "ExecuteTime": {
     "end_time": "2021-02-08T04:50:32.671674Z",
     "start_time": "2021-02-08T04:50:22.124870Z"
    },
    "scrolled": true
   },
   "outputs": [
    {
     "data": {
      "text/plain": [
       "<tensorflow.python.keras.callbacks.History at 0x7f6320116c88>"
      ]
     },
     "execution_count": 8,
     "metadata": {},
     "output_type": "execute_result"
    }
   ],
   "source": [
    "mlp = ReluNetClassifier(train_x.shape[1], [40] * 4, regl1=0.01, lr=0.001, random_state=0)\n",
    "mlp.fit(train_x, train_y, epochs=2000, batch_size=200, verbose=False)"
   ]
  },
  {
   "cell_type": "markdown",
   "metadata": {},
   "source": [
    "Use OpenBox to interpret the fitted PLNN"
   ]
  },
  {
   "cell_type": "code",
   "execution_count": 9,
   "metadata": {
    "ExecuteTime": {
     "end_time": "2021-02-08T04:50:33.937713Z",
     "start_time": "2021-02-08T04:50:33.802152Z"
    },
    "scrolled": true
   },
   "outputs": [
    {
     "data": {
      "text/html": [
       "<div>\n",
       "<style scoped>\n",
       "    .dataframe tbody tr th:only-of-type {\n",
       "        vertical-align: middle;\n",
       "    }\n",
       "\n",
       "    .dataframe tbody tr th {\n",
       "        vertical-align: top;\n",
       "    }\n",
       "\n",
       "    .dataframe thead th {\n",
       "        text-align: right;\n",
       "    }\n",
       "</style>\n",
       "<table border=\"1\" class=\"dataframe\">\n",
       "  <thead>\n",
       "    <tr style=\"text-align: right;\">\n",
       "      <th></th>\n",
       "      <th>Count</th>\n",
       "      <th>Response Mean</th>\n",
       "      <th>Response Std</th>\n",
       "      <th>Local AUC</th>\n",
       "      <th>Global AUC</th>\n",
       "    </tr>\n",
       "  </thead>\n",
       "  <tbody>\n",
       "    <tr>\n",
       "      <th>0</th>\n",
       "      <td>137.0</td>\n",
       "      <td>1.000000</td>\n",
       "      <td>0.000000</td>\n",
       "      <td>NaN</td>\n",
       "      <td>0.002775</td>\n",
       "    </tr>\n",
       "    <tr>\n",
       "      <th>1</th>\n",
       "      <td>113.0</td>\n",
       "      <td>0.318584</td>\n",
       "      <td>0.465927</td>\n",
       "      <td>0.958153</td>\n",
       "      <td>0.997357</td>\n",
       "    </tr>\n",
       "    <tr>\n",
       "      <th>2</th>\n",
       "      <td>87.0</td>\n",
       "      <td>0.000000</td>\n",
       "      <td>0.000000</td>\n",
       "      <td>NaN</td>\n",
       "      <td>0.997357</td>\n",
       "    </tr>\n",
       "    <tr>\n",
       "      <th>3</th>\n",
       "      <td>72.0</td>\n",
       "      <td>0.986111</td>\n",
       "      <td>0.117030</td>\n",
       "      <td>0.380282</td>\n",
       "      <td>0.997357</td>\n",
       "    </tr>\n",
       "    <tr>\n",
       "      <th>4</th>\n",
       "      <td>48.0</td>\n",
       "      <td>1.000000</td>\n",
       "      <td>0.000000</td>\n",
       "      <td>NaN</td>\n",
       "      <td>0.997212</td>\n",
       "    </tr>\n",
       "    <tr>\n",
       "      <th>5</th>\n",
       "      <td>47.0</td>\n",
       "      <td>0.000000</td>\n",
       "      <td>0.000000</td>\n",
       "      <td>NaN</td>\n",
       "      <td>0.997357</td>\n",
       "    </tr>\n",
       "    <tr>\n",
       "      <th>6</th>\n",
       "      <td>30.0</td>\n",
       "      <td>1.000000</td>\n",
       "      <td>0.000000</td>\n",
       "      <td>NaN</td>\n",
       "      <td>0.494814</td>\n",
       "    </tr>\n",
       "    <tr>\n",
       "      <th>7</th>\n",
       "      <td>21.0</td>\n",
       "      <td>1.000000</td>\n",
       "      <td>0.000000</td>\n",
       "      <td>NaN</td>\n",
       "      <td>0.997212</td>\n",
       "    </tr>\n",
       "    <tr>\n",
       "      <th>8</th>\n",
       "      <td>8.0</td>\n",
       "      <td>1.000000</td>\n",
       "      <td>0.000000</td>\n",
       "      <td>NaN</td>\n",
       "      <td>0.997357</td>\n",
       "    </tr>\n",
       "    <tr>\n",
       "      <th>9</th>\n",
       "      <td>3.0</td>\n",
       "      <td>1.000000</td>\n",
       "      <td>0.000000</td>\n",
       "      <td>NaN</td>\n",
       "      <td>0.997212</td>\n",
       "    </tr>\n",
       "    <tr>\n",
       "      <th>10</th>\n",
       "      <td>2.0</td>\n",
       "      <td>1.000000</td>\n",
       "      <td>0.000000</td>\n",
       "      <td>NaN</td>\n",
       "      <td>0.997357</td>\n",
       "    </tr>\n",
       "    <tr>\n",
       "      <th>11</th>\n",
       "      <td>1.0</td>\n",
       "      <td>1.000000</td>\n",
       "      <td>0.000000</td>\n",
       "      <td>NaN</td>\n",
       "      <td>0.003819</td>\n",
       "    </tr>\n",
       "  </tbody>\n",
       "</table>\n",
       "</div>"
      ],
      "text/plain": [
       "    Count  Response Mean  Response Std  Local AUC  Global AUC\n",
       "0   137.0       1.000000      0.000000        NaN    0.002775\n",
       "1   113.0       0.318584      0.465927   0.958153    0.997357\n",
       "2    87.0       0.000000      0.000000        NaN    0.997357\n",
       "3    72.0       0.986111      0.117030   0.380282    0.997357\n",
       "4    48.0       1.000000      0.000000        NaN    0.997212\n",
       "5    47.0       0.000000      0.000000        NaN    0.997357\n",
       "6    30.0       1.000000      0.000000        NaN    0.494814\n",
       "7    21.0       1.000000      0.000000        NaN    0.997212\n",
       "8     8.0       1.000000      0.000000        NaN    0.997357\n",
       "9     3.0       1.000000      0.000000        NaN    0.997212\n",
       "10    2.0       1.000000      0.000000        NaN    0.997357\n",
       "11    1.0       1.000000      0.000000        NaN    0.003819"
      ]
     },
     "execution_count": 9,
     "metadata": {},
     "output_type": "execute_result"
    }
   ],
   "source": [
    "from aletheia import *\n",
    "\n",
    "coefs = [layer.kernel.numpy() for layer in mlp.layers]\n",
    "intercepts = [layer.bias.numpy() for layer in mlp.layers]\n",
    "clf = UnwrapperClassifier(coefs, intercepts)\n",
    "clf.fit(x, y)\n",
    "clf.summary()"
   ]
  },
  {
   "cell_type": "code",
   "execution_count": null,
   "metadata": {},
   "outputs": [],
   "source": []
  }
 ],
 "metadata": {
  "kernelspec": {
   "display_name": "Python (tf2)",
   "language": "python",
   "name": "tf2"
  },
  "language_info": {
   "codemirror_mode": {
    "name": "ipython",
    "version": 3
   },
   "file_extension": ".py",
   "mimetype": "text/x-python",
   "name": "python",
   "nbconvert_exporter": "python",
   "pygments_lexer": "ipython3",
   "version": "3.6.8"
  },
  "latex_envs": {
   "LaTeX_envs_menu_present": true,
   "autoclose": false,
   "autocomplete": true,
   "bibliofile": "biblio.bib",
   "cite_by": "apalike",
   "current_citInitial": 1,
   "eqLabelWithNumbers": true,
   "eqNumInitial": 1,
   "hotkeys": {
    "equation": "Ctrl-E",
    "itemize": "Ctrl-I"
   },
   "labels_anchors": false,
   "latex_user_defs": false,
   "report_style_numbering": false,
   "user_envs_cfg": false
  },
  "varInspector": {
   "cols": {
    "lenName": 16,
    "lenType": 16,
    "lenVar": 40
   },
   "kernels_config": {
    "python": {
     "delete_cmd_postfix": "",
     "delete_cmd_prefix": "del ",
     "library": "var_list.py",
     "varRefreshCmd": "print(var_dic_list())"
    },
    "r": {
     "delete_cmd_postfix": ") ",
     "delete_cmd_prefix": "rm(",
     "library": "var_list.r",
     "varRefreshCmd": "cat(var_dic_list()) "
    }
   },
   "types_to_exclude": [
    "module",
    "function",
    "builtin_function_or_method",
    "instance",
    "_Feature"
   ],
   "window_display": false
  }
 },
 "nbformat": 4,
 "nbformat_minor": 2
}
